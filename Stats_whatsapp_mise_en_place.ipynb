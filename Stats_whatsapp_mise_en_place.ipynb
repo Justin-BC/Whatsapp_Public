{
 "cells": [
  {
   "cell_type": "code",
   "execution_count": 17,
   "metadata": {},
   "outputs": [],
   "source": [
    "import numpy as np\n",
    "import pandas as pd\n",
    "import matplotlib.pyplot as plt\n",
    "import re\n",
    "%matplotlib inline"
   ]
  },
  {
   "cell_type": "markdown",
   "metadata": {},
   "source": [
    "# Program that gathers data from whatsapp .txt"
   ]
  },
  {
   "cell_type": "markdown",
   "metadata": {},
   "source": [
    "architecture :\n",
    "    - files in work_directory/original_data/\n",
    "    - files produced saved in work_directory/data/\n",
    "    \n",
    "###### Potential improvments : automatic creation of directories "
   ]
  },
  {
   "cell_type": "markdown",
   "metadata": {},
   "source": [
    "## To change : nom_conv"
   ]
  },
  {
   "cell_type": "code",
   "execution_count": 18,
   "metadata": {},
   "outputs": [],
   "source": [
    "nom_conv = 'Conv_1' # the name of the whatsapp conversation without the file extension name (ex: in \"Whatsapp.txt\" indicate \"Whatsapp\")"
   ]
  },
  {
   "cell_type": "code",
   "execution_count": 19,
   "metadata": {},
   "outputs": [],
   "source": [
    "conv = './original data/' + nom_conv + '.txt' # access to file"
   ]
  },
  {
   "cell_type": "code",
   "execution_count": 20,
   "metadata": {},
   "outputs": [],
   "source": [
    "def Datepattern(s):\n",
    "    pattern = '^([0-2][0-9]|(3)[0-1])(\\/)(((0)[0-9])|((1)[0-2]))(\\/)(\\d{2}|\\d{4}) à ([0-9][0-9]):([0-9][0-9]) -'\n",
    "    result = re.match(pattern, s)\n",
    "    if result: # If it recognizes a \"(date) à (hour) -\", returns the value \"True\" \n",
    "        return True\n",
    "    return False # If it doesn't, return the value \"False\"\n",
    "\n",
    "# Works with french messages where the separator in the txt file is \"à\". Change that in the code if it is not the case for you\n",
    "# Works for messages such as : 01/01/2020 à 00:00 - Author_1: message\n",
    "# If you have that type : 01/01/2020, 00:00 - Author_1: message, change \"à\" by \",\""
   ]
  },
  {
   "cell_type": "code",
   "execution_count": 21,
   "metadata": {},
   "outputs": [],
   "source": [
    "def Auteurpattern(s):\n",
    "    patterns = [\n",
    "        '([\\w]+):',                        # Recognizes one word followed by \":\"\n",
    "        '([\\w]+[\\s]+[\\w]+):',              # Recognizes two words separated by a space and followed by \":\"\n",
    "        '([\\w]+[\\s]+[\\w]+[\\s]+[\\w]+):',    # Recognizes two words separated by a space and followed by \":\"\n",
    "    ]\n",
    "    pattern = '^' + '|'.join(patterns)\n",
    "    result = re.match(pattern, s)\n",
    "    if result:\n",
    "        return True # same thing as above\n",
    "    return False"
   ]
  },
  {
   "cell_type": "code",
   "execution_count": 22,
   "metadata": {},
   "outputs": [],
   "source": [
    "def getData(line):\n",
    "    splitLine = line.split(' - ') # splits at the dash, giving us two elements, the date and hour and the author and the message\n",
    "    dateTime = splitLine[0] # we take the date and time and store the\n",
    "    date, time = dateTime.split('à ') # we split at \"à\" because of the french version\n",
    "    \n",
    "    message = ' '.join(splitLine[1:]) # We store the second element of the list as the message\n",
    "    \n",
    "    if Auteurpattern(message): # We look for an author at the beginning\n",
    "        splitMessage = message.split(': ') # If we find one, we split at the column\n",
    "        author = splitMessage[0] # the first element is the author\n",
    "        message = ' '.join(splitMessage[1:]) # the second is the message itself\n",
    "    else: # if it doesn't start with an author, it's an automatic message\n",
    "        author = None # the non-author is stored\n",
    "    return date, time, author, message"
   ]
  },
  {
   "cell_type": "code",
   "execution_count": 23,
   "metadata": {},
   "outputs": [],
   "source": [
    "Data = [] # to save for later\n",
    "fp = open(conv, encoding=\"utf-8\")\n",
    "fp.readline() #Reads the first line without applying any operations on it (it's usually a line that says \"data is encrypted\")\n",
    "    \n",
    "temp = [] # We will store temporarly messages, in case there is a break in the line\n",
    "date, time, author = None, None, None # initialization of variables\n",
    "\n",
    "while True: #We could also use an if statement and stop with the number of lines of the txt file\n",
    "    line = fp.readline() # we read line by line\n",
    "    if not line: # Stops when we reach the end of the file\n",
    "        break\n",
    "    line = line.strip() # .strip() removes the potential blank spaces and hidden caracters\n",
    "    if Datepattern(line): # If it starts by a date, it's a new message\n",
    "        if len(temp) > 0: # If the buffer contains elements, that means we have stored a message\n",
    "            Data.append([date, time, author, ' '.join(temp)]) # so we save data, since we're in a new message\n",
    "        temp.clear() # clearing the buffer\n",
    "        date, time, author, message = getData(line) # identifying elements of the message\n",
    "        temp.append(message) # saving it in case there is a new line\n",
    "    else: # If it doesn't start with a date, it's following the previous message so we add it in the buffer\n",
    "        temp.append(line) "
   ]
  },
  {
   "cell_type": "code",
   "execution_count": 24,
   "metadata": {},
   "outputs": [],
   "source": [
    "df = pd.DataFrame(Data, columns=['Date', 'Heure', 'Auteur', 'Message']) #Finally creating the dataframe\n",
    "\n",
    "fichier_clean = './original data/' + nom_conv + '_clean.csv'  #naming a new intermediary file\n",
    "\n",
    "#Saving the file for next time\n",
    "df.to_csv(fichier_clean, encoding='utf-8', index=False)\n",
    "#df.head(10)"
   ]
  },
  {
   "cell_type": "markdown",
   "metadata": {},
   "source": [
    "#### If you don't want the last part that adds a column, just stop the code here."
   ]
  },
  {
   "cell_type": "code",
   "execution_count": 25,
   "metadata": {},
   "outputs": [],
   "source": [
    "df = pd.read_csv(fichier_clean, parse_dates = [[\"Date\",\"Heure\"]] ,dayfirst=True, na_filter=False) # reads the file previously created"
   ]
  },
  {
   "cell_type": "code",
   "execution_count": 26,
   "metadata": {},
   "outputs": [],
   "source": [
    "auteurs = df[\"Auteur\"].unique() #stores all the authors"
   ]
  },
  {
   "cell_type": "code",
   "execution_count": 27,
   "metadata": {},
   "outputs": [],
   "source": [
    "frames = list(range(len(auteurs))) # we create a list that will contain data frames\n",
    "for i in range(len(auteurs)):\n",
    "    temp = df[df[\"Auteur\"]== auteurs[i]].reset_index(drop=True) #stores a part of the datafram linked to authors\n",
    "    total_mssg = temp[\"Message\"].count() #counts the number of messages sent by that author\n",
    "    for j in range(total_mssg): # adds a column and adds a counter of messages\n",
    "        temp.loc[j,'Compteur'] = j+1\n",
    "    frames[i]=temp #stores the different parts to unify again the dataframe after\n"
   ]
  },
  {
   "cell_type": "code",
   "execution_count": 28,
   "metadata": {},
   "outputs": [],
   "source": [
    "fichier_compte = pd.concat(frames) # recreates the data frame\n",
    "fichier_compte = fichier_compte.sort_values(by=['Date_Heure','Compteur']) # sort it first by time, and then by the \"count\" column we created"
   ]
  },
  {
   "cell_type": "code",
   "execution_count": 29,
   "metadata": {},
   "outputs": [],
   "source": [
    "fichier_compte.to_csv( './data/' + nom_conv + '_compteur.csv', encoding='utf-8', index=False) #saves the dataframe in a csv file"
   ]
  },
  {
   "cell_type": "markdown",
   "metadata": {},
   "source": [
    "### Credits : The first part of the code by Samir Sheriff can be found here : https://towardsdatascience.com/build-your-own-whatsapp-chat-analyzer-9590acca9014. I changed a few things (in order to adapt it to French chats) and added a few others."
   ]
  }
 ],
 "metadata": {
  "kernelspec": {
   "display_name": "Python 3",
   "language": "python",
   "name": "python3"
  },
  "language_info": {
   "codemirror_mode": {
    "name": "ipython",
    "version": 3
   },
   "file_extension": ".py",
   "mimetype": "text/x-python",
   "name": "python",
   "nbconvert_exporter": "python",
   "pygments_lexer": "ipython3",
   "version": "3.7.7"
  }
 },
 "nbformat": 4,
 "nbformat_minor": 2
}
